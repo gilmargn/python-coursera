{
 "cells": [
  {
   "cell_type": "markdown",
   "metadata": {},
   "source": [
    "# Venda Antecipada - Títulos atrelados ao IPCA"
   ]
  },
  {
   "cell_type": "code",
   "execution_count": 1,
   "metadata": {},
   "outputs": [],
   "source": [
    "import numpy as np\n",
    "\n",
    "class titulo_ipca(object):\n",
    "    def __init__(self):\n",
    "        self.vf = 1_000 # valor de face, o valor que será recebido no vencimento por cada título comprado\n",
    "        self.tx_c = 10\n",
    "   \n",
    "    def get_pu(self, vna, ipca_p, du, dc1, dc2, tx):\n",
    "        vna_p = vna*(1 + ipca_p/100)**(dc1/dc2)\n",
    "        cot = 1/(1 + tx/100)**(du/252)\n",
    "        pu = vna_p*cot\n",
    "        return pu\n",
    "   \n",
    "    def venda_antecipada(self, vnapc, vnapv, duc, duv, txc, txv):\n",
    "        cotc = 1/(1 + txc/100)**(duc/252)\n",
    "        puc = vnapc*cotc\n",
    "        cotv = 1/(1 + txv/100)**(duv/252)\n",
    "        puv = vnapv*cotv\n",
    "        rb = puv/puc - 1\n",
    "        rba = (1 + rb)**(252/(duc - duv)) - 1\n",
    "        \n",
    "        return rb*100, rba*100"
   ]
  },
  {
   "cell_type": "markdown",
   "metadata": {},
   "source": [
    "# Exemplo 1"
   ]
  },
  {
   "cell_type": "code",
   "execution_count": 2,
   "metadata": {},
   "outputs": [
    {
     "name": "stdout",
     "output_type": "stream",
     "text": [
      "1940.138931718471\n"
     ]
    }
   ],
   "source": [
    "vna = 2494.97 # último valor nominal disponível\n",
    "ipca_p = 0.79 # ipca projetado para o próximo dia 15\n",
    "dc1 = 22 # dias corridos entre o dia 15 anterior e a data de compra\n",
    "dc2 = 31 # dias corridos entre o último dia 15 e o próximo\n",
    "du = 1089\n",
    "tx = 6.13\n",
    "tit = titulo_ipca()\n",
    "pv = tit.get_pu(vna, ipca_p, du, dc1, dc2, tx)\n",
    "print(pv)"
   ]
  },
  {
   "cell_type": "code",
   "execution_count": 10,
   "metadata": {},
   "outputs": [
    {
     "name": "stdout",
     "output_type": "stream",
     "text": [
      "1938.6620548452036\n"
     ]
    }
   ],
   "source": [
    "vna = 2494.97 # último valor nominal disponível\n",
    "ipca_p = 0.79 # ipca projetado para o próximo dia 15\n",
    "dc1 = 22 # dias corridos entre o dia 15 anterior e a data de compra\n",
    "dc2 = 31 # dias corridos entre o último dia 15 e o próximo\n",
    "du = 1089\n",
    "tx = 6.13\n",
    "tit = titulo_ipca()\n",
    "pv = tit.get_pu(vna, ipca_p, du, dc1, dc2, tx)\n",
    "print(pv)"
   ]
  },
  {
   "cell_type": "markdown",
   "metadata": {},
   "source": [
    "# Exemplo 2"
   ]
  },
  {
   "cell_type": "code",
   "execution_count": 16,
   "metadata": {},
   "outputs": [
    {
     "name": "stdout",
     "output_type": "stream",
     "text": [
      "20.39\n"
     ]
    }
   ],
   "source": [
    "# compra\n",
    "vnac = 2494.97\n",
    "ipcapc = 0.79\n",
    "dc1 = 22\n",
    "dc2 = 31\n",
    "vnapc = vnac*(1 + ipcapc/100)**(dc1/dc2)\n",
    "txc = 6.13\n",
    "duc = 1089\n",
    "# venda\n",
    "vnav = 2736.989929\n",
    "ipcapv = 0.5\n",
    "dcv1 = 22\n",
    "dcv2 = 31\n",
    "vnapv = vnav*(1 + ipcapv/100)**(dcv1/dcv2)\n",
    "txv = 5.0\n",
    "duv = 1089-252\n",
    "\n",
    "tit = titulo_ipca()\n",
    "rb, rba = tit.venda_antecipada(vnapc, vnapv, duc, duv, txc, txv)\n",
    "print(np.round(rb,2))"
   ]
  },
  {
   "cell_type": "code",
   "execution_count": 17,
   "metadata": {},
   "outputs": [
    {
     "name": "stdout",
     "output_type": "stream",
     "text": [
      "20.39\n"
     ]
    }
   ],
   "source": [
    "print(np.round(rba,2))"
   ]
  }
 ],
 "metadata": {
  "kernelspec": {
   "display_name": "Python 3 (ipykernel)",
   "language": "python",
   "name": "python3"
  },
  "language_info": {
   "codemirror_mode": {
    "name": "ipython",
    "version": 3
   },
   "file_extension": ".py",
   "mimetype": "text/x-python",
   "name": "python",
   "nbconvert_exporter": "python",
   "pygments_lexer": "ipython3",
   "version": "3.8.10"
  },
  "vscode": {
   "interpreter": {
    "hash": "bce320103a4f9599bf42cb45744b1f3acee8930c6f7dcdff248089a2e65863cd"
   }
  }
 },
 "nbformat": 4,
 "nbformat_minor": 2
}
